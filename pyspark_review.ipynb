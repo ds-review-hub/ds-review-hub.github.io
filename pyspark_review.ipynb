{
 "cells": [
  {
   "cell_type": "code",
   "execution_count": 58,
   "id": "c8405d97-ee41-499a-bcfc-852bb940e4c7",
   "metadata": {},
   "outputs": [
    {
     "name": "stdout",
     "output_type": "stream",
     "text": [
      "Today: 2021-11-02\n",
      "LY: 2020-11-02\n"
     ]
    }
   ],
   "source": [
    "import pandas as pd\n",
    "import numpy as np\n",
    "\n",
    "import matplotlib.pyplot as plt\n",
    "import seaborn as sns\n",
    "\n",
    "from pyspark.sql.functions import *\n",
    "from pyspark.sql.window import Window\n",
    "from pyspark.sql.types import IntegerType\n",
    "\n",
    "from datetime import datetime\n",
    "from dateutil.relativedelta import relativedelta\n",
    "\n",
    "current_time = datetime.now()\n",
    "last_year = datetime.now() - relativedelta(years=1)\n",
    "\n",
    "print('Today:', current_time.strftime(\"%Y-%m-%d\"))\n",
    "print('LY:', last_year.strftime(\"%Y-%m-%d\"))"
   ]
  },
  {
   "cell_type": "markdown",
   "id": "fa2e0cfb-cfbf-47a5-8a7f-e00e934674f6",
   "metadata": {},
   "source": [
    "# Working with PySpark DataFrames\n",
    "\n",
    "This notebook provides some basic code snippets to perform common DataFrame manipulations, transformations, and actions using PySpark.\n",
    "\n",
    "For pandas users, I've incluced some code snippets to perform some of the most common `Initial EDA` you are probabably used to performing upon reading in data."
   ]
  },
  {
   "cell_type": "markdown",
   "id": "5295a009-5240-49a8-a86c-057187b0e58d",
   "metadata": {},
   "source": [
    "## Acquire and Summarize"
   ]
  },
  {
   "cell_type": "code",
   "execution_count": 2,
   "id": "3db13c28-b4d8-425f-a5cd-c1f2d7115817",
   "metadata": {},
   "outputs": [],
   "source": [
    "# Create spark session\n",
    "\n",
    "spark = pyspark.sql.SparkSession.builder.getOrCreate()"
   ]
  },
  {
   "cell_type": "markdown",
   "id": "2b3d2609-7400-4bfd-97a3-1ecd07f036a0",
   "metadata": {},
   "source": [
    "### From Pandas DF"
   ]
  },
  {
   "cell_type": "code",
   "execution_count": 3,
   "id": "5dde799e-ea5f-49a6-a3dc-295e9cfafb66",
   "metadata": {},
   "outputs": [],
   "source": [
    "# Import mpg dataset into a pandas DataFrame\n",
    "\n",
    "pdf = data('mpg')"
   ]
  },
  {
   "cell_type": "code",
   "execution_count": 4,
   "id": "ad6c068f-d713-4187-bf7c-7445dad314c8",
   "metadata": {},
   "outputs": [],
   "source": [
    "# Convert pandas DF into a Spark DataFrame\n",
    "\n",
    "sdf = spark.createDataFrame(pdf)"
   ]
  },
  {
   "cell_type": "markdown",
   "id": "08da5c54-d744-4065-9e2b-078b2cd5fa99",
   "metadata": {},
   "source": [
    "### From SQL Database"
   ]
  },
  {
   "cell_type": "markdown",
   "id": "9f626031-8d4f-4b00-9116-66ddc9152342",
   "metadata": {},
   "source": [
    "```python\n",
    "# Create PySpark DataFrame from a table using a SQL Query.\n",
    "\n",
    "query = f\"\"\"\n",
    "        SELECT * FROM table_name\n",
    "        \"\"\"\n",
    "\n",
    "df = spark.sql(query)\n",
    "```"
   ]
  },
  {
   "cell_type": "markdown",
   "id": "f10034b0-ec85-4e77-901a-d2e055d14df3",
   "metadata": {},
   "source": [
    "#### .shape()"
   ]
  },
  {
   "cell_type": "code",
   "execution_count": 15,
   "id": "7abbed22-21b5-445a-a485-e36e5354ea8c",
   "metadata": {},
   "outputs": [
    {
     "name": "stdout",
     "output_type": "stream",
     "text": [
      "234 11\n"
     ]
    }
   ],
   "source": [
    "print(sdf.count(), len(sdf.columns))"
   ]
  },
  {
   "cell_type": "markdown",
   "id": "2563361e-3a5a-4703-9463-d381379560a4",
   "metadata": {},
   "source": [
    "#### .dtypes"
   ]
  },
  {
   "cell_type": "code",
   "execution_count": 16,
   "id": "74d77e47-5d7c-43e8-9fcb-400782dafb54",
   "metadata": {},
   "outputs": [
    {
     "data": {
      "text/plain": [
       "[('manufacturer', 'string'),\n",
       " ('model', 'string'),\n",
       " ('displ', 'double'),\n",
       " ('year', 'bigint'),\n",
       " ('cyl', 'bigint'),\n",
       " ('trans', 'string'),\n",
       " ('drv', 'string'),\n",
       " ('cty', 'bigint'),\n",
       " ('hwy', 'bigint'),\n",
       " ('fl', 'string'),\n",
       " ('class', 'string')]"
      ]
     },
     "execution_count": 16,
     "metadata": {},
     "output_type": "execute_result"
    }
   ],
   "source": [
    "# Just like pandas .dtypes\n",
    "\n",
    "sdf.dtypes"
   ]
  },
  {
   "cell_type": "code",
   "execution_count": 5,
   "id": "e8b19ce1-79a5-444b-a7cf-3d7eca982423",
   "metadata": {},
   "outputs": [
    {
     "name": "stdout",
     "output_type": "stream",
     "text": [
      "root\n",
      " |-- manufacturer: string (nullable = true)\n",
      " |-- model: string (nullable = true)\n",
      " |-- displ: double (nullable = true)\n",
      " |-- year: long (nullable = true)\n",
      " |-- cyl: long (nullable = true)\n",
      " |-- trans: string (nullable = true)\n",
      " |-- drv: string (nullable = true)\n",
      " |-- cty: long (nullable = true)\n",
      " |-- hwy: long (nullable = true)\n",
      " |-- fl: string (nullable = true)\n",
      " |-- class: string (nullable = true)\n",
      "\n"
     ]
    }
   ],
   "source": [
    "# OR view columns and spark data types this way.\n",
    "\n",
    "sdf.printSchema()"
   ]
  },
  {
   "cell_type": "markdown",
   "id": "5ba08cc0-b3a5-4927-a678-dfdc04fc7eac",
   "metadata": {},
   "source": [
    "#### .columns"
   ]
  },
  {
   "cell_type": "code",
   "execution_count": 6,
   "id": "23ba6043-12af-400f-9286-3cafaa63885f",
   "metadata": {},
   "outputs": [
    {
     "data": {
      "text/plain": [
       "['manufacturer',\n",
       " 'model',\n",
       " 'displ',\n",
       " 'year',\n",
       " 'cyl',\n",
       " 'trans',\n",
       " 'drv',\n",
       " 'cty',\n",
       " 'hwy',\n",
       " 'fl',\n",
       " 'class']"
      ]
     },
     "execution_count": 6,
     "metadata": {},
     "output_type": "execute_result"
    }
   ],
   "source": [
    "# Print DataFrame columns.\n",
    "\n",
    "sdf.columns"
   ]
  },
  {
   "cell_type": "markdown",
   "id": "d24d5c72-c809-4f61-b2ad-448b2d851972",
   "metadata": {},
   "source": [
    "#### .head()"
   ]
  },
  {
   "cell_type": "code",
   "execution_count": 10,
   "id": "c85d219d-289a-4393-a25c-3cc9192a61fd",
   "metadata": {},
   "outputs": [
    {
     "name": "stdout",
     "output_type": "stream",
     "text": [
      "+------------+-----+-----+----+---+----------+---+---+---+---+-------+\n",
      "|manufacturer|model|displ|year|cyl|     trans|drv|cty|hwy| fl|  class|\n",
      "+------------+-----+-----+----+---+----------+---+---+---+---+-------+\n",
      "|        audi|   a4|  1.8|1999|  4|  auto(l5)|  f| 18| 29|  p|compact|\n",
      "|        audi|   a4|  1.8|1999|  4|manual(m5)|  f| 21| 29|  p|compact|\n",
      "|        audi|   a4|  2.0|2008|  4|manual(m6)|  f| 20| 31|  p|compact|\n",
      "|        audi|   a4|  2.0|2008|  4|  auto(av)|  f| 21| 30|  p|compact|\n",
      "|        audi|   a4|  2.8|1999|  6|  auto(l5)|  f| 16| 26|  p|compact|\n",
      "+------------+-----+-----+----+---+----------+---+---+---+---+-------+\n",
      "only showing top 5 rows\n",
      "\n"
     ]
    }
   ],
   "source": [
    "# Display the first five rows.\n",
    "\n",
    "sdf.show(5)"
   ]
  },
  {
   "cell_type": "markdown",
   "id": "9ef16810-2bdc-4405-b8c6-228df519debf",
   "metadata": {},
   "source": [
    "```python\n",
    "# In DataBricks\n",
    "\n",
    "display(sdf.limit(5))\n",
    "```"
   ]
  },
  {
   "cell_type": "markdown",
   "id": "b752e8df-5382-4576-a100-4920259e0a94",
   "metadata": {},
   "source": [
    "#### .describe()"
   ]
  },
  {
   "cell_type": "code",
   "execution_count": 11,
   "id": "baf1a2af-5c9c-427e-8793-a7262a93b3aa",
   "metadata": {},
   "outputs": [
    {
     "name": "stdout",
     "output_type": "stream",
     "text": [
      "+-------+------------+-----------------+------------------+-----------------+-----------------+----------+---+------------------+-----------------+----+-------+\n",
      "|summary|manufacturer|            model|             displ|             year|              cyl|     trans|drv|               cty|              hwy|  fl|  class|\n",
      "+-------+------------+-----------------+------------------+-----------------+-----------------+----------+---+------------------+-----------------+----+-------+\n",
      "|  count|         234|              234|               234|              234|              234|       234|234|               234|              234| 234|    234|\n",
      "|   mean|        null|             null| 3.471794871794871|           2003.5|5.888888888888889|      null|4.0|16.858974358974358|23.44017094017094|null|   null|\n",
      "| stddev|        null|             null|1.2919590310839348|4.509646313320439|1.611534484684289|      null|0.0| 4.255945678889394|5.954643441166446|null|   null|\n",
      "|    min|        audi|      4runner 4wd|               1.6|             1999|                4|  auto(av)|  4|                 9|               12|   c|2seater|\n",
      "|    max|  volkswagen|toyota tacoma 4wd|               7.0|             2008|                8|manual(m6)|  r|                35|               44|   r|    suv|\n",
      "+-------+------------+-----------------+------------------+-----------------+-----------------+----------+---+------------------+-----------------+----+-------+\n",
      "\n"
     ]
    }
   ],
   "source": [
    "# View descriptive statistics for our Spark DF\n",
    "\n",
    "sdf.describe().show()"
   ]
  },
  {
   "cell_type": "markdown",
   "id": "d4137d84-4188-4520-bfd6-44d006f565be",
   "metadata": {},
   "source": [
    "```python\n",
    "# In DataBricks\n",
    "\n",
    "display(sdf.describe())\n",
    "```"
   ]
  },
  {
   "cell_type": "code",
   "execution_count": 14,
   "id": "79a7c3bc-1de5-4a07-87b1-ccb813ff3dc7",
   "metadata": {},
   "outputs": [
    {
     "data": {
      "text/html": [
       "<div>\n",
       "<style scoped>\n",
       "    .dataframe tbody tr th:only-of-type {\n",
       "        vertical-align: middle;\n",
       "    }\n",
       "\n",
       "    .dataframe tbody tr th {\n",
       "        vertical-align: top;\n",
       "    }\n",
       "\n",
       "    .dataframe thead th {\n",
       "        text-align: right;\n",
       "    }\n",
       "</style>\n",
       "<table border=\"1\" class=\"dataframe\">\n",
       "  <thead>\n",
       "    <tr style=\"text-align: right;\">\n",
       "      <th>summary</th>\n",
       "      <th>count</th>\n",
       "      <th>mean</th>\n",
       "      <th>stddev</th>\n",
       "      <th>min</th>\n",
       "      <th>max</th>\n",
       "    </tr>\n",
       "  </thead>\n",
       "  <tbody>\n",
       "    <tr>\n",
       "      <th>manufacturer</th>\n",
       "      <td>234</td>\n",
       "      <td>None</td>\n",
       "      <td>None</td>\n",
       "      <td>audi</td>\n",
       "      <td>volkswagen</td>\n",
       "    </tr>\n",
       "    <tr>\n",
       "      <th>model</th>\n",
       "      <td>234</td>\n",
       "      <td>None</td>\n",
       "      <td>None</td>\n",
       "      <td>4runner 4wd</td>\n",
       "      <td>toyota tacoma 4wd</td>\n",
       "    </tr>\n",
       "    <tr>\n",
       "      <th>displ</th>\n",
       "      <td>234</td>\n",
       "      <td>3.471794871794871</td>\n",
       "      <td>1.2919590310839348</td>\n",
       "      <td>1.6</td>\n",
       "      <td>7.0</td>\n",
       "    </tr>\n",
       "    <tr>\n",
       "      <th>year</th>\n",
       "      <td>234</td>\n",
       "      <td>2003.5</td>\n",
       "      <td>4.509646313320439</td>\n",
       "      <td>1999</td>\n",
       "      <td>2008</td>\n",
       "    </tr>\n",
       "    <tr>\n",
       "      <th>cyl</th>\n",
       "      <td>234</td>\n",
       "      <td>5.888888888888889</td>\n",
       "      <td>1.611534484684289</td>\n",
       "      <td>4</td>\n",
       "      <td>8</td>\n",
       "    </tr>\n",
       "    <tr>\n",
       "      <th>trans</th>\n",
       "      <td>234</td>\n",
       "      <td>None</td>\n",
       "      <td>None</td>\n",
       "      <td>auto(av)</td>\n",
       "      <td>manual(m6)</td>\n",
       "    </tr>\n",
       "    <tr>\n",
       "      <th>drv</th>\n",
       "      <td>234</td>\n",
       "      <td>4.0</td>\n",
       "      <td>0.0</td>\n",
       "      <td>4</td>\n",
       "      <td>r</td>\n",
       "    </tr>\n",
       "    <tr>\n",
       "      <th>cty</th>\n",
       "      <td>234</td>\n",
       "      <td>16.858974358974358</td>\n",
       "      <td>4.255945678889394</td>\n",
       "      <td>9</td>\n",
       "      <td>35</td>\n",
       "    </tr>\n",
       "    <tr>\n",
       "      <th>hwy</th>\n",
       "      <td>234</td>\n",
       "      <td>23.44017094017094</td>\n",
       "      <td>5.954643441166446</td>\n",
       "      <td>12</td>\n",
       "      <td>44</td>\n",
       "    </tr>\n",
       "    <tr>\n",
       "      <th>fl</th>\n",
       "      <td>234</td>\n",
       "      <td>None</td>\n",
       "      <td>None</td>\n",
       "      <td>c</td>\n",
       "      <td>r</td>\n",
       "    </tr>\n",
       "    <tr>\n",
       "      <th>class</th>\n",
       "      <td>234</td>\n",
       "      <td>None</td>\n",
       "      <td>None</td>\n",
       "      <td>2seater</td>\n",
       "      <td>suv</td>\n",
       "    </tr>\n",
       "  </tbody>\n",
       "</table>\n",
       "</div>"
      ],
      "text/plain": [
       "summary      count                mean              stddev          min  \\\n",
       "manufacturer   234                None                None         audi   \n",
       "model          234                None                None  4runner 4wd   \n",
       "displ          234   3.471794871794871  1.2919590310839348          1.6   \n",
       "year           234              2003.5   4.509646313320439         1999   \n",
       "cyl            234   5.888888888888889   1.611534484684289            4   \n",
       "trans          234                None                None     auto(av)   \n",
       "drv            234                 4.0                 0.0            4   \n",
       "cty            234  16.858974358974358   4.255945678889394            9   \n",
       "hwy            234   23.44017094017094   5.954643441166446           12   \n",
       "fl             234                None                None            c   \n",
       "class          234                None                None      2seater   \n",
       "\n",
       "summary                     max  \n",
       "manufacturer         volkswagen  \n",
       "model         toyota tacoma 4wd  \n",
       "displ                       7.0  \n",
       "year                       2008  \n",
       "cyl                           8  \n",
       "trans                manual(m6)  \n",
       "drv                           r  \n",
       "cty                          35  \n",
       "hwy                          44  \n",
       "fl                            r  \n",
       "class                       suv  "
      ]
     },
     "execution_count": 14,
     "metadata": {},
     "output_type": "execute_result"
    }
   ],
   "source": [
    "# Make it more readable using your good friend pandas.\n",
    "\n",
    "sdf.describe().toPandas().set_index('summary').T"
   ]
  },
  {
   "cell_type": "markdown",
   "id": "2fbecc74-b4d2-4641-8516-46a60ffce95a",
   "metadata": {},
   "source": [
    "#### .value_counts()"
   ]
  },
  {
   "cell_type": "code",
   "execution_count": 21,
   "id": "2bd4f735-324f-470c-9171-06da40a7fb2b",
   "metadata": {},
   "outputs": [
    {
     "name": "stdout",
     "output_type": "stream",
     "text": [
      "+-------------------+-----+\n",
      "|              model|count|\n",
      "+-------------------+-----+\n",
      "| grand cherokee 4wd|    8|\n",
      "|             altima|    6|\n",
      "|      navigator 2wd|    3|\n",
      "|        caravan 2wd|   11|\n",
      "|        4runner 4wd|    6|\n",
      "|    k1500 tahoe 4wd|    4|\n",
      "|       camry solara|    7|\n",
      "|    mountaineer 4wd|    4|\n",
      "| c1500 suburban 2wd|    5|\n",
      "|                 a4|    7|\n",
      "|    f150 pickup 4wd|    7|\n",
      "|              jetta|    9|\n",
      "|             sonata|    7|\n",
      "|                gti|    5|\n",
      "|       explorer 4wd|    6|\n",
      "|     pathfinder 4wd|    4|\n",
      "|            corolla|    5|\n",
      "|  toyota tacoma 4wd|    7|\n",
      "|ram 1500 pickup 4wd|   10|\n",
      "|             passat|    7|\n",
      "+-------------------+-----+\n",
      "only showing top 20 rows\n",
      "\n"
     ]
    }
   ],
   "source": [
    "(\n",
    "  sdf\n",
    "    .groupBy('model')\n",
    "    .count()\n",
    "    .show()\n",
    ")"
   ]
  },
  {
   "cell_type": "markdown",
   "id": "4855faad-56d4-410a-82e2-7ee889f18c10",
   "metadata": {},
   "source": [
    "#### .sort()\n",
    "\n",
    "You can use `.orderBy()` the same as `.sort()`, but I'll demo it later as another option combined with the `.when()` function to show how you can perform a manual  sort."
   ]
  },
  {
   "cell_type": "code",
   "execution_count": 20,
   "id": "7a9545e0-403f-4a5c-998e-0b079d206755",
   "metadata": {},
   "outputs": [
    {
     "name": "stdout",
     "output_type": "stream",
     "text": [
      "+-------------------+-----+\n",
      "|              model|count|\n",
      "+-------------------+-----+\n",
      "|        caravan 2wd|   11|\n",
      "|ram 1500 pickup 4wd|   10|\n",
      "|              civic|    9|\n",
      "|              jetta|    9|\n",
      "|  dakota pickup 4wd|    9|\n",
      "|            mustang|    9|\n",
      "|         a4 quattro|    8|\n",
      "| grand cherokee 4wd|    8|\n",
      "|        impreza awd|    8|\n",
      "|            tiburon|    7|\n",
      "|  toyota tacoma 4wd|    7|\n",
      "|             sonata|    7|\n",
      "|       camry solara|    7|\n",
      "|              camry|    7|\n",
      "|                 a4|    7|\n",
      "|    f150 pickup 4wd|    7|\n",
      "|             passat|    7|\n",
      "|        durango 4wd|    7|\n",
      "|        4runner 4wd|    6|\n",
      "|       explorer 4wd|    6|\n",
      "+-------------------+-----+\n",
      "only showing top 20 rows\n",
      "\n"
     ]
    }
   ],
   "source": [
    "(\n",
    "  sdf\n",
    "    .groupBy('model')\n",
    "    .count()\n",
    "    .sort('count', ascending=False)\n",
    "    .show()\n",
    ")"
   ]
  },
  {
   "cell_type": "markdown",
   "id": "c2698d06-45d2-4ab2-99ac-bb05f8781be8",
   "metadata": {},
   "source": [
    "```python\n",
    "# In DataBricks\n",
    "\n",
    "display(\n",
    "   sdf\n",
    "    .groupBy('department')\n",
    "    .count()\n",
    "    .sort('count', ascending=False)\n",
    ")\n",
    "\n",
    "OR\n",
    "\n",
    "display(\n",
    "   sdf\n",
    "    .groupBy('department)\n",
    "    .count()\n",
    "    .sort(desc('count'))\n",
    ")\n",
    "```"
   ]
  },
  {
   "cell_type": "markdown",
   "id": "eca89b32-3aeb-48bf-933f-1aa9de03da43",
   "metadata": {},
   "source": [
    "___"
   ]
  },
  {
   "cell_type": "markdown",
   "id": "fdb661d8-2067-46f5-a11c-2abecf3eea2e",
   "metadata": {},
   "source": [
    "## Prepare and Manipulate"
   ]
  },
  {
   "cell_type": "markdown",
   "id": "b691a43a-96e0-4f23-95b9-7f2cbb89d11a",
   "metadata": {},
   "source": [
    "### Data Types"
   ]
  },
  {
   "cell_type": "markdown",
   "id": "7053e8d2-c2c4-4828-9fa2-7250bac7703f",
   "metadata": {},
   "source": [
    "#### .astype()\n",
    "\n",
    "```python\n",
    "# I can change the data type of a PySpark column using .withColumn() and .cast() methods\n",
    "\n",
    "df.withColumn( 'col_name', df['col_name'].cast(DoubleType()) )  # For a decimal number\n",
    "df.withColumn( 'col_name', df['col_name'].cast(IntegerType()) ) # For an integer\n",
    "df.withColumn( 'col_name', df['col_name'].cast(StringType()) )  # For a string\n",
    "```"
   ]
  },
  {
   "cell_type": "markdown",
   "id": "bc124c42-4a0d-4b33-bb37-ca02b7b38799",
   "metadata": {},
   "source": [
    "### Filter Columns"
   ]
  },
  {
   "cell_type": "markdown",
   "id": "2a07d3a8-7cff-49f4-a42d-6beb468463b3",
   "metadata": {},
   "source": [
    "#### .select()"
   ]
  },
  {
   "cell_type": "code",
   "execution_count": 23,
   "id": "dc026415-c710-435b-aac2-4e3fee400f29",
   "metadata": {},
   "outputs": [
    {
     "name": "stdout",
     "output_type": "stream",
     "text": [
      "+----+------------+-----+\n",
      "|year|manufacturer|model|\n",
      "+----+------------+-----+\n",
      "|1999|        audi|   a4|\n",
      "|1999|        audi|   a4|\n",
      "|2008|        audi|   a4|\n",
      "|2008|        audi|   a4|\n",
      "|1999|        audi|   a4|\n",
      "+----+------------+-----+\n",
      "only showing top 5 rows\n",
      "\n"
     ]
    }
   ],
   "source": [
    "# Select multiple columns from the Spark DataFrame.\n",
    "\n",
    "sdf.select(['year', 'manufacturer', 'model']).show(5)"
   ]
  },
  {
   "cell_type": "markdown",
   "id": "b6158850-7db8-4ee2-871c-96f095234a7e",
   "metadata": {},
   "source": [
    "#### Using col() & expr()\n",
    "\n",
    "I can even chain `.alias()` onto my columns to rename them on the fly."
   ]
  },
  {
   "cell_type": "code",
   "execution_count": 48,
   "id": "104fa65d-f168-4816-bad8-41b48e442a7f",
   "metadata": {},
   "outputs": [
    {
     "name": "stdout",
     "output_type": "stream",
     "text": [
      "+---------------+------------+-------------+---------------+\n",
      "|highway_mileage|city_mileage|transimission|average_mileage|\n",
      "+---------------+------------+-------------+---------------+\n",
      "|             29|          18|     auto(l5)|           23.5|\n",
      "|             29|          21|   manual(m5)|           25.0|\n",
      "|             31|          20|   manual(m6)|           25.5|\n",
      "|             30|          21|     auto(av)|           25.5|\n",
      "|             26|          16|     auto(l5)|           21.0|\n",
      "+---------------+------------+-------------+---------------+\n",
      "only showing top 5 rows\n",
      "\n"
     ]
    }
   ],
   "source": [
    "# Use the col and expr functions with the alias method to create a new DF.\n",
    "\n",
    "sdf.select(\n",
    "    col('hwy').alias('highway_mileage'),\n",
    "    col('cty').alias('city_mileage'),\n",
    "    col('trans').alias('transimission'),\n",
    "    expr('(hwy + cty) / 2').alias('average_mileage')\n",
    ").show(5)"
   ]
  },
  {
   "cell_type": "markdown",
   "id": "71124176-e240-478e-b3f6-5771db646967",
   "metadata": {},
   "source": [
    "#### Using Bracket Notation\n",
    "\n",
    "- Notice, this is only a single pair of brackets, `df['col', 'col']`\n",
    "- This is unlike pandas double brackets, `df[['col', 'col']]`, to create a subset when you pass a list to the indexing operators `[]`."
   ]
  },
  {
   "cell_type": "code",
   "execution_count": 34,
   "id": "5296fdbe-6002-4db2-aee7-f30763286f99",
   "metadata": {},
   "outputs": [
    {
     "name": "stdout",
     "output_type": "stream",
     "text": [
      "+------------+-----+\n",
      "|manufacturer|model|\n",
      "+------------+-----+\n",
      "|        audi|   a4|\n",
      "|        audi|   a4|\n",
      "|        audi|   a4|\n",
      "|        audi|   a4|\n",
      "|        audi|   a4|\n",
      "+------------+-----+\n",
      "only showing top 5 rows\n",
      "\n"
     ]
    }
   ],
   "source": [
    "sdf['manufacturer', 'model'].show(5)"
   ]
  },
  {
   "cell_type": "markdown",
   "id": "3b161a41-ead1-4b0b-934d-10fc9ffa0408",
   "metadata": {},
   "source": [
    "```python\n",
    "# In DataBricks\n",
    "\n",
    "display(sdf['manufacturer', 'model'].limit(5))\n",
    "```"
   ]
  },
  {
   "cell_type": "markdown",
   "id": "78b6d465-bfa5-4eb8-97a8-370a2cbe078f",
   "metadata": {},
   "source": [
    "### Create Columns"
   ]
  },
  {
   "cell_type": "markdown",
   "id": "ce58c873-c9e7-4179-889c-8ec8071eec30",
   "metadata": {},
   "source": [
    "#### .withColumn()"
   ]
  },
  {
   "cell_type": "code",
   "execution_count": 23,
   "id": "4cb2f049-6cfe-4eb1-bf9f-f61cb1bf157d",
   "metadata": {},
   "outputs": [
    {
     "name": "stdout",
     "output_type": "stream",
     "text": [
      "+------------+-----+-----+----+---+----------+---+---+---+---+-------+------------+\n",
      "|manufacturer|model|displ|year|cyl|     trans|drv|cty|hwy| fl|  class|make_&_model|\n",
      "+------------+-----+-----+----+---+----------+---+---+---+---+-------+------------+\n",
      "|        audi|   a4|  1.8|1999|  4|  auto(l5)|  f| 18| 29|  p|compact|     audi a4|\n",
      "|        audi|   a4|  1.8|1999|  4|manual(m5)|  f| 21| 29|  p|compact|     audi a4|\n",
      "|        audi|   a4|  2.0|2008|  4|manual(m6)|  f| 20| 31|  p|compact|     audi a4|\n",
      "|        audi|   a4|  2.0|2008|  4|  auto(av)|  f| 21| 30|  p|compact|     audi a4|\n",
      "|        audi|   a4|  2.8|1999|  6|  auto(l5)|  f| 16| 26|  p|compact|     audi a4|\n",
      "+------------+-----+-----+----+---+----------+---+---+---+---+-------+------------+\n",
      "only showing top 5 rows\n",
      "\n"
     ]
    }
   ],
   "source": [
    "# Create a new column in a copy of our Spark DataFrame.\n",
    "# Note: This does not change the original DataFrame.\n",
    "(\n",
    "    sdf\n",
    "    .withColumn( 'make_&_model', concat(sdf['manufacturer'], lit(' '), sdf['model']) )\n",
    "    .show(5)\n",
    ")"
   ]
  },
  {
   "cell_type": "markdown",
   "id": "3c4bc66b-59d3-4104-a548-12a3a4c3fc38",
   "metadata": {},
   "source": [
    "#### Using .when()"
   ]
  },
  {
   "cell_type": "code",
   "execution_count": 26,
   "id": "79178244-e2ef-4817-a1c9-3ee328f1f28a",
   "metadata": {},
   "outputs": [
    {
     "name": "stdout",
     "output_type": "stream",
     "text": [
      "+------------+-----+-----+----+---+----------+---+---+---+---+-------+-------+\n",
      "|manufacturer|model|displ|year|cyl|     trans|drv|cty|hwy| fl|  class|is_auto|\n",
      "+------------+-----+-----+----+---+----------+---+---+---+---+-------+-------+\n",
      "|        audi|   a4|  1.8|1999|  4|  auto(l5)|  f| 18| 29|  p|compact|      1|\n",
      "|        audi|   a4|  1.8|1999|  4|manual(m5)|  f| 21| 29|  p|compact|      0|\n",
      "|        audi|   a4|  2.0|2008|  4|manual(m6)|  f| 20| 31|  p|compact|      0|\n",
      "|        audi|   a4|  2.0|2008|  4|  auto(av)|  f| 21| 30|  p|compact|      1|\n",
      "|        audi|   a4|  2.8|1999|  6|  auto(l5)|  f| 16| 26|  p|compact|      1|\n",
      "+------------+-----+-----+----+---+----------+---+---+---+---+-------+-------+\n",
      "only showing top 5 rows\n",
      "\n"
     ]
    }
   ],
   "source": [
    "# I can create a column to flag all automatic transmissions if I like.\n",
    "(\n",
    "    sdf\n",
    "    .withColumn( 'is_auto', when( col('trans').startswith('a'), 1 )\n",
    "                .otherwise(0) )\n",
    "    .show(5)\n",
    ")"
   ]
  },
  {
   "cell_type": "code",
   "execution_count": 27,
   "id": "bc791f2f-1fc3-4989-bd68-2bdeb9fe438f",
   "metadata": {},
   "outputs": [
    {
     "name": "stdout",
     "output_type": "stream",
     "text": [
      "+------------+-----+-----+----+---+----------+---+---+---+---+-------+------------+\n",
      "|manufacturer|model|displ|year|cyl|     trans|drv|cty|hwy| fl|  class|transmission|\n",
      "+------------+-----+-----+----+---+----------+---+---+---+---+-------+------------+\n",
      "|        audi|   a4|  1.8|1999|  4|  auto(l5)|  f| 18| 29|  p|compact|   automatic|\n",
      "|        audi|   a4|  1.8|1999|  4|manual(m5)|  f| 21| 29|  p|compact|      manual|\n",
      "|        audi|   a4|  2.0|2008|  4|manual(m6)|  f| 20| 31|  p|compact|      manual|\n",
      "|        audi|   a4|  2.0|2008|  4|  auto(av)|  f| 21| 30|  p|compact|   automatic|\n",
      "|        audi|   a4|  2.8|1999|  6|  auto(l5)|  f| 16| 26|  p|compact|   automatic|\n",
      "+------------+-----+-----+----+---+----------+---+---+---+---+-------+------------+\n",
      "only showing top 5 rows\n",
      "\n"
     ]
    }
   ],
   "source": [
    "# I can use the lit() function to insert literal string values, too.\n",
    "(\n",
    "    sdf\n",
    "    .withColumn( 'transmission', when( col('trans').startswith('a'), lit('automatic') )\n",
    "                .otherwise('manual') )\n",
    "    .show(5)\n",
    ")"
   ]
  },
  {
   "cell_type": "markdown",
   "id": "d5224e32-f30c-4e6c-82a8-1ca8468c5f03",
   "metadata": {},
   "source": [
    "```python\n",
    "# In DataBricks\n",
    "\n",
    "display(\n",
    "    sdf\n",
    "    .withColumn( 'transmission', when( col('trans').startswith('a'), lit('automatic') )\n",
    "                 .otherwise('manual') )\n",
    "    .limit(5)\n",
    ")\n",
    "```"
   ]
  },
  {
   "cell_type": "markdown",
   "id": "6a046853-c084-4c80-8b5b-da2728a41a23",
   "metadata": {},
   "source": [
    "#### Using .map()\n",
    "\n",
    "PySpark doesn't have one of my favorite pandas functions, `.map()`, but I can still create a new column based on the values in an existing column; I'll just use the `.when()` function."
   ]
  },
  {
   "cell_type": "code",
   "execution_count": 46,
   "id": "fa35fc39-b313-4b74-8307-2f8e112d20f7",
   "metadata": {},
   "outputs": [
    {
     "name": "stdout",
     "output_type": "stream",
     "text": [
      "+------------+------------------+-----+----+---+----------+---+---+---+---+-------+---------------+\n",
      "|manufacturer|             model|displ|year|cyl|     trans|drv|cty|hwy| fl|  class|fuel_efficiency|\n",
      "+------------+------------------+-----+----+---+----------+---+---+---+---+-------+---------------+\n",
      "|        audi|                a4|  1.8|1999|  4|  auto(l5)|  f| 18| 29|  p|compact|    really good|\n",
      "|        audi|                a4|  1.8|1999|  4|manual(m5)|  f| 21| 29|  p|compact|    really good|\n",
      "|        audi|                a4|  2.0|2008|  4|manual(m6)|  f| 20| 31|  p|compact|          great|\n",
      "|        audi|                a4|  2.0|2008|  4|  auto(av)|  f| 21| 30|  p|compact|          great|\n",
      "|        audi|                a4|  2.8|1999|  6|  auto(l5)|  f| 16| 26|  p|compact|    really good|\n",
      "|        audi|                a4|  2.8|1999|  6|manual(m5)|  f| 18| 26|  p|compact|    really good|\n",
      "|        audi|                a4|  3.1|2008|  6|  auto(av)|  f| 18| 27|  p|compact|    really good|\n",
      "|        audi|        a4 quattro|  1.8|1999|  4|manual(m5)|  4| 18| 26|  p|compact|    really good|\n",
      "|        audi|        a4 quattro|  1.8|1999|  4|  auto(l5)|  4| 16| 25|  p|compact|    really good|\n",
      "|        audi|        a4 quattro|  2.0|2008|  4|manual(m6)|  4| 20| 28|  p|compact|    really good|\n",
      "|        audi|        a4 quattro|  2.0|2008|  4|  auto(s6)|  4| 19| 27|  p|compact|    really good|\n",
      "|        audi|        a4 quattro|  2.8|1999|  6|  auto(l5)|  4| 15| 25|  p|compact|    really good|\n",
      "|        audi|        a4 quattro|  2.8|1999|  6|manual(m5)|  4| 17| 25|  p|compact|    really good|\n",
      "|        audi|        a4 quattro|  3.1|2008|  6|  auto(s6)|  4| 17| 25|  p|compact|    really good|\n",
      "|        audi|        a4 quattro|  3.1|2008|  6|manual(m6)|  4| 15| 25|  p|compact|    really good|\n",
      "|        audi|        a6 quattro|  2.8|1999|  6|  auto(l5)|  4| 15| 24|  p|midsize|           good|\n",
      "|        audi|        a6 quattro|  3.1|2008|  6|  auto(s6)|  4| 17| 25|  p|midsize|    really good|\n",
      "|        audi|        a6 quattro|  4.2|2008|  8|  auto(s6)|  4| 16| 23|  p|midsize|           good|\n",
      "|   chevrolet|c1500 suburban 2wd|  5.3|2008|  8|  auto(l4)|  r| 14| 20|  r|    suv|           good|\n",
      "|   chevrolet|c1500 suburban 2wd|  5.3|2008|  8|  auto(l4)|  r| 11| 15|  e|    suv|             ok|\n",
      "+------------+------------------+-----+----+---+----------+---+---+---+---+-------+---------------+\n",
      "only showing top 20 rows\n",
      "\n"
     ]
    }
   ],
   "source": [
    "(\n",
    "    sdf\n",
    "    .withColumn('fuel_efficiency', when( col('hwy') < 10, lit('terrible') )\n",
    "                                  .when( col('hwy') < 15, lit('bad') )\n",
    "                                  .when( col('hwy') < 20, lit('ok') )\n",
    "                                  .when( col('hwy') < 25, lit('good') )\n",
    "                                  .when( col('hwy') < 30, lit('really good') )\n",
    "                                  .otherwise('great')\n",
    "               )\n",
    "    .show()\n",
    ")"
   ]
  },
  {
   "cell_type": "markdown",
   "id": "0363928e-c973-4f41-b00e-2c088a40861e",
   "metadata": {},
   "source": [
    "### Rename Columns"
   ]
  },
  {
   "cell_type": "markdown",
   "id": "4ae376f5-c1c3-4517-9d6e-307074fa6e40",
   "metadata": {},
   "source": [
    "#### .withColumnRenamed"
   ]
  },
  {
   "cell_type": "code",
   "execution_count": 31,
   "id": "77bda7ce-6176-46fa-b2b8-839c340df70b",
   "metadata": {},
   "outputs": [
    {
     "name": "stdout",
     "output_type": "stream",
     "text": [
      "+----+-----+-----+----+---+----------+---+---+---+---+-------+\n",
      "|make|model|displ|year|cyl|     trans|drv|cty|hwy| fl|  class|\n",
      "+----+-----+-----+----+---+----------+---+---+---+---+-------+\n",
      "|audi|   a4|  1.8|1999|  4|  auto(l5)|  f| 18| 29|  p|compact|\n",
      "|audi|   a4|  1.8|1999|  4|manual(m5)|  f| 21| 29|  p|compact|\n",
      "|audi|   a4|  2.0|2008|  4|manual(m6)|  f| 20| 31|  p|compact|\n",
      "|audi|   a4|  2.0|2008|  4|  auto(av)|  f| 21| 30|  p|compact|\n",
      "|audi|   a4|  2.8|1999|  6|  auto(l5)|  f| 16| 26|  p|compact|\n",
      "+----+-----+-----+----+---+----------+---+---+---+---+-------+\n",
      "only showing top 5 rows\n",
      "\n"
     ]
    }
   ],
   "source": [
    "# Rename a column in a copy of our Spark DF.\n",
    "# Note: Again, this does not mutate the original DF.\n",
    "\n",
    "sdf.withColumnRenamed('manufacturer', 'make').show(5)"
   ]
  },
  {
   "cell_type": "markdown",
   "id": "4afb9b79-3a19-4a75-97c2-c31edf78b3f3",
   "metadata": {},
   "source": [
    "### Drop Columns"
   ]
  },
  {
   "cell_type": "markdown",
   "id": "191c6c44-4357-4940-8769-5170fbcbf938",
   "metadata": {},
   "source": [
    "#### .drop"
   ]
  },
  {
   "cell_type": "code",
   "execution_count": 30,
   "id": "463b0dc8-b57d-4f53-b7d5-9ed0d86b87a8",
   "metadata": {},
   "outputs": [
    {
     "name": "stdout",
     "output_type": "stream",
     "text": [
      "+------------+-----+-----+----+---+----------+---+---+---+-------+\n",
      "|manufacturer|model|displ|year|cyl|     trans|drv|cty|hwy|  class|\n",
      "+------------+-----+-----+----+---+----------+---+---+---+-------+\n",
      "|        audi|   a4|  1.8|1999|  4|  auto(l5)|  f| 18| 29|compact|\n",
      "|        audi|   a4|  1.8|1999|  4|manual(m5)|  f| 21| 29|compact|\n",
      "|        audi|   a4|  2.0|2008|  4|manual(m6)|  f| 20| 31|compact|\n",
      "|        audi|   a4|  2.0|2008|  4|  auto(av)|  f| 21| 30|compact|\n",
      "|        audi|   a4|  2.8|1999|  6|  auto(l5)|  f| 16| 26|compact|\n",
      "+------------+-----+-----+----+---+----------+---+---+---+-------+\n",
      "only showing top 5 rows\n",
      "\n"
     ]
    }
   ],
   "source": [
    "# This does not mutate my original DataFrame; I would have to reassign if I want to do that.\n",
    "\n",
    "sdf.drop('fl').show(5)"
   ]
  },
  {
   "cell_type": "code",
   "execution_count": 31,
   "id": "ca2df010-7cec-438d-bf48-0171e4b0899b",
   "metadata": {},
   "outputs": [
    {
     "name": "stdout",
     "output_type": "stream",
     "text": [
      "+------------+-----+-----+----+----------+---+---+---+-------+\n",
      "|manufacturer|model|displ|year|     trans|drv|cty|hwy|  class|\n",
      "+------------+-----+-----+----+----------+---+---+---+-------+\n",
      "|        audi|   a4|  1.8|1999|  auto(l5)|  f| 18| 29|compact|\n",
      "|        audi|   a4|  1.8|1999|manual(m5)|  f| 21| 29|compact|\n",
      "|        audi|   a4|  2.0|2008|manual(m6)|  f| 20| 31|compact|\n",
      "|        audi|   a4|  2.0|2008|  auto(av)|  f| 21| 30|compact|\n",
      "|        audi|   a4|  2.8|1999|  auto(l5)|  f| 16| 26|compact|\n",
      "+------------+-----+-----+----+----------+---+---+---+-------+\n",
      "only showing top 5 rows\n",
      "\n"
     ]
    }
   ],
   "source": [
    "# I can drop as many columns as I want.\n",
    "\n",
    "sdf.drop('fl', 'cyl').show(5)"
   ]
  },
  {
   "cell_type": "markdown",
   "id": "d6b790b5-9bac-46aa-81eb-88060461b790",
   "metadata": {},
   "source": [
    "### Filter Rows\n",
    "\n",
    "- You can also use methods you will recognize from python like `.contains()`, `.startswith()`, `.endswith()`.\n",
    "- With multiple conditions:\n",
    "  - `df.where( (condition1) & (condition2) )`\n",
    "  - `df.where(condition1).where(condition2)`\n",
    "  - `df.where( (condition1) & ~(condition2) )`\n",
    "  - `df.where( (condition1) | (condition2) )`\n",
    "- Using SQL syntax\n",
    "  - `df.where(\"col_name = value\")`\n",
    "  - `df.where(\"col_name <= value\")`\n",
    "- Using PySpark syntax\n",
    "  - `df.where( col('col_name') == value )`\n",
    "  - `df.where( sdf['col_name'] == value )`\n",
    "  - `df.where( sdf.col_name == value )`"
   ]
  },
  {
   "cell_type": "markdown",
   "id": "c012c87d-f39a-4d0e-9ee1-387cfd0371b3",
   "metadata": {},
   "source": [
    "#### .filter()"
   ]
  },
  {
   "cell_type": "code",
   "execution_count": 43,
   "id": "918be87e-0b91-4a0a-9820-0f5727dd4457",
   "metadata": {},
   "outputs": [
    {
     "name": "stdout",
     "output_type": "stream",
     "text": [
      "+------------+-----+-----+----+---+----------+---+---+---+---+-------+\n",
      "|manufacturer|model|displ|year|cyl|     trans|drv|cty|hwy| fl|  class|\n",
      "+------------+-----+-----+----+---+----------+---+---+---+---+-------+\n",
      "|        audi|   a4|  1.8|1999|  4|  auto(l5)|  f| 18| 29|  p|compact|\n",
      "|        audi|   a4|  1.8|1999|  4|manual(m5)|  f| 21| 29|  p|compact|\n",
      "|        audi|   a4|  2.0|2008|  4|manual(m6)|  f| 20| 31|  p|compact|\n",
      "|        audi|   a4|  2.0|2008|  4|  auto(av)|  f| 21| 30|  p|compact|\n",
      "|        audi|   a4|  2.8|1999|  6|  auto(l5)|  f| 16| 26|  p|compact|\n",
      "+------------+-----+-----+----+---+----------+---+---+---+---+-------+\n",
      "only showing top 5 rows\n",
      "\n"
     ]
    }
   ],
   "source": [
    "# Filter Spark DataFrame to be a subset of compact cars only. I could also use .where() here.\n",
    "\n",
    "sdf.filter(sdf['class'] == 'compact').show(5)"
   ]
  },
  {
   "cell_type": "markdown",
   "id": "dbdf09a0-06b6-4ca1-93c3-170cd072e7f5",
   "metadata": {},
   "source": [
    "#### .where()"
   ]
  },
  {
   "cell_type": "code",
   "execution_count": 35,
   "id": "2977c222-843e-4b74-a087-e25458b5e405",
   "metadata": {},
   "outputs": [
    {
     "name": "stdout",
     "output_type": "stream",
     "text": [
      "+------------+----------+-----+----+---+----------+---+---+---+---+-------+\n",
      "|manufacturer|     model|displ|year|cyl|     trans|drv|cty|hwy| fl|  class|\n",
      "+------------+----------+-----+----+---+----------+---+---+---+---+-------+\n",
      "|        audi|        a4|  2.0|2008|  4|manual(m6)|  f| 20| 31|  p|compact|\n",
      "|        audi|        a4|  2.0|2008|  4|  auto(av)|  f| 21| 30|  p|compact|\n",
      "|        audi|        a4|  3.1|2008|  6|  auto(av)|  f| 18| 27|  p|compact|\n",
      "|        audi|a4 quattro|  2.0|2008|  4|manual(m6)|  4| 20| 28|  p|compact|\n",
      "|        audi|a4 quattro|  2.0|2008|  4|  auto(s6)|  4| 19| 27|  p|compact|\n",
      "+------------+----------+-----+----+---+----------+---+---+---+---+-------+\n",
      "only showing top 5 rows\n",
      "\n"
     ]
    }
   ],
   "source": [
    "# Filter with multiple conditions using .where(). .filter() will do the exact same thing.\n",
    "\n",
    "sdf.where( (sdf['class'] == 'compact') & (sdf.year > 2000) ).show(5)"
   ]
  },
  {
   "cell_type": "markdown",
   "id": "b50b33dd-f107-48fe-93f4-eaaa1dbfbede",
   "metadata": {},
   "source": [
    "```python\n",
    "# In DataBricks\n",
    "\n",
    "display(\n",
    "    sdf.where( (sdf['class'] == 'compact') & (sdf.year > 2000) )\n",
    "    .limit(5)\n",
    "```"
   ]
  },
  {
   "cell_type": "code",
   "execution_count": 46,
   "id": "459a5e30-46aa-40ea-ae71-42fba50178ca",
   "metadata": {},
   "outputs": [
    {
     "name": "stdout",
     "output_type": "stream",
     "text": [
      "+------------+----------+-----+----+---+----------+---+---+---+---+-------+\n",
      "|manufacturer|     model|displ|year|cyl|     trans|drv|cty|hwy| fl|  class|\n",
      "+------------+----------+-----+----+---+----------+---+---+---+---+-------+\n",
      "|        audi|        a4|  2.0|2008|  4|manual(m6)|  f| 20| 31|  p|compact|\n",
      "|        audi|        a4|  2.0|2008|  4|  auto(av)|  f| 21| 30|  p|compact|\n",
      "|        audi|        a4|  3.1|2008|  6|  auto(av)|  f| 18| 27|  p|compact|\n",
      "|        audi|a4 quattro|  2.0|2008|  4|manual(m6)|  4| 20| 28|  p|compact|\n",
      "|        audi|a4 quattro|  2.0|2008|  4|  auto(s6)|  4| 19| 27|  p|compact|\n",
      "+------------+----------+-----+----+---+----------+---+---+---+---+-------+\n",
      "only showing top 5 rows\n",
      "\n"
     ]
    }
   ],
   "source": [
    "# I can even combine them and filter with multiple conditions using .filter & .where if I like.\n",
    "\n",
    "sdf.filter(sdf['class'] == 'compact').where(sdf.year > 2000).show(5)"
   ]
  },
  {
   "cell_type": "markdown",
   "id": "79bcee27-1f64-464e-bf3c-2bee637b5f12",
   "metadata": {},
   "source": [
    "#### Using .isin()"
   ]
  },
  {
   "cell_type": "code",
   "execution_count": 41,
   "id": "a7ced97a-2975-44cd-909d-b8d64c9bcebd",
   "metadata": {},
   "outputs": [
    {
     "name": "stdout",
     "output_type": "stream",
     "text": [
      "+------------+----------+-----+----+---+----------+---+---+---+---+----------+\n",
      "|manufacturer|     model|displ|year|cyl|     trans|drv|cty|hwy| fl|     class|\n",
      "+------------+----------+-----+----+---+----------+---+---+---+---+----------+\n",
      "|        audi|        a4|  1.8|1999|  4|  auto(l5)|  f| 18| 29|  p|   compact|\n",
      "|        audi|        a4|  1.8|1999|  4|manual(m5)|  f| 21| 29|  p|   compact|\n",
      "|        audi|        a4|  2.0|2008|  4|manual(m6)|  f| 20| 31|  p|   compact|\n",
      "|        audi|        a4|  2.0|2008|  4|  auto(av)|  f| 21| 30|  p|   compact|\n",
      "|        audi|        a4|  2.8|1999|  6|  auto(l5)|  f| 16| 26|  p|   compact|\n",
      "|        audi|        a4|  2.8|1999|  6|manual(m5)|  f| 18| 26|  p|   compact|\n",
      "|        audi|        a4|  3.1|2008|  6|  auto(av)|  f| 18| 27|  p|   compact|\n",
      "|        audi|a4 quattro|  1.8|1999|  4|manual(m5)|  4| 18| 26|  p|   compact|\n",
      "|        audi|a4 quattro|  1.8|1999|  4|  auto(l5)|  4| 16| 25|  p|   compact|\n",
      "|        audi|a4 quattro|  2.0|2008|  4|manual(m6)|  4| 20| 28|  p|   compact|\n",
      "|        audi|a4 quattro|  2.0|2008|  4|  auto(s6)|  4| 19| 27|  p|   compact|\n",
      "|        audi|a4 quattro|  2.8|1999|  6|  auto(l5)|  4| 15| 25|  p|   compact|\n",
      "|        audi|a4 quattro|  2.8|1999|  6|manual(m5)|  4| 17| 25|  p|   compact|\n",
      "|        audi|a4 quattro|  3.1|2008|  6|  auto(s6)|  4| 17| 25|  p|   compact|\n",
      "|        audi|a4 quattro|  3.1|2008|  6|manual(m6)|  4| 15| 25|  p|   compact|\n",
      "|        ford|   mustang|  3.8|1999|  6|manual(m5)|  r| 18| 26|  r|subcompact|\n",
      "|        ford|   mustang|  3.8|1999|  6|  auto(l4)|  r| 18| 25|  r|subcompact|\n",
      "|        ford|   mustang|  4.0|2008|  6|manual(m5)|  r| 17| 26|  r|subcompact|\n",
      "|        ford|   mustang|  4.0|2008|  6|  auto(l5)|  r| 16| 24|  r|subcompact|\n",
      "|        ford|   mustang|  4.6|1999|  8|  auto(l4)|  r| 15| 21|  r|subcompact|\n",
      "+------------+----------+-----+----+---+----------+---+---+---+---+----------+\n",
      "only showing top 20 rows\n",
      "\n"
     ]
    }
   ],
   "source": [
    "sdf.where( col('class').isin('compact', 'subcompact') ).show()"
   ]
  },
  {
   "cell_type": "markdown",
   "id": "530c8d4f-3bf3-436e-be11-b6a0fb173a6b",
   "metadata": {},
   "source": [
    "#### Using .like() with %"
   ]
  },
  {
   "cell_type": "code",
   "execution_count": 43,
   "id": "3921b026-7d8e-434b-b38c-735d81b2f406",
   "metadata": {},
   "outputs": [
    {
     "name": "stdout",
     "output_type": "stream",
     "text": [
      "+------------+----------+-----+----+---+--------+---+---+---+---+-------+\n",
      "|manufacturer|     model|displ|year|cyl|   trans|drv|cty|hwy| fl|  class|\n",
      "+------------+----------+-----+----+---+--------+---+---+---+---+-------+\n",
      "|        audi|        a4|  1.8|1999|  4|auto(l5)|  f| 18| 29|  p|compact|\n",
      "|        audi|        a4|  2.0|2008|  4|auto(av)|  f| 21| 30|  p|compact|\n",
      "|        audi|        a4|  2.8|1999|  6|auto(l5)|  f| 16| 26|  p|compact|\n",
      "|        audi|        a4|  3.1|2008|  6|auto(av)|  f| 18| 27|  p|compact|\n",
      "|        audi|a4 quattro|  1.8|1999|  4|auto(l5)|  4| 16| 25|  p|compact|\n",
      "|        audi|a4 quattro|  2.0|2008|  4|auto(s6)|  4| 19| 27|  p|compact|\n",
      "|        audi|a4 quattro|  2.8|1999|  6|auto(l5)|  4| 15| 25|  p|compact|\n",
      "|        audi|a4 quattro|  3.1|2008|  6|auto(s6)|  4| 17| 25|  p|compact|\n",
      "|        audi|a6 quattro|  2.8|1999|  6|auto(l5)|  4| 15| 24|  p|midsize|\n",
      "|        audi|a6 quattro|  3.1|2008|  6|auto(s6)|  4| 17| 25|  p|midsize|\n",
      "+------------+----------+-----+----+---+--------+---+---+---+---+-------+\n",
      "only showing top 10 rows\n",
      "\n"
     ]
    }
   ],
   "source": [
    "# Use the .like() operator like you would in SQL.\n",
    "\n",
    "sdf.where( col('trans').like('%auto%') ).show(10)"
   ]
  },
  {
   "cell_type": "markdown",
   "id": "f6557339-11fc-47fb-814c-1be6a8a6fa06",
   "metadata": {},
   "source": [
    "### Grouping & Aggregating\n",
    "\n",
    "I can use the `.agg()` method to run a function, like `.round()`, on the aggregate or even perform more than on aggregate on one or more columns at a time.\n",
    "- Notice that I can clean up my aggregate column name using the `.alias()` method.\n",
    "  - A cool thing to point out here is that once I alias an aggregate column, I can refer to that column by its alias in my transformation.\n",
    "- I can also pass a dictionary to `.agg()` with one or more columns and more or more types of aggregations.\n",
    "```python\n",
    "sdf\n",
    ".groupBy('col_name')\n",
    ".agg({'col1': 'agg_func', 'col2': 'agg_func'})\n",
    "```\n",
    "\n",
    "\n",
    "- I can also add an alias for the column and format the number being returned if I like.\n",
    "```python\n",
    "sdf\n",
    ".select(stddev(\"Sales\").alias('std'))\n",
    ".select(format_number('std',2).alias('std_2digits'))\n",
    "```"
   ]
  },
  {
   "cell_type": "markdown",
   "id": "36546ac7-3d12-4460-91bb-29f8cefd543c",
   "metadata": {},
   "source": [
    "#### countDistinct()\n",
    "\n",
    "I can simply use `.select()` with `countDistinct()` if I want to know how many unique values I have in a column. I can even throw in a `.alias()` to clean up my column name."
   ]
  },
  {
   "cell_type": "code",
   "execution_count": 47,
   "id": "75b1e824-a233-4b78-aa6b-92cad6b41601",
   "metadata": {},
   "outputs": [
    {
     "name": "stdout",
     "output_type": "stream",
     "text": [
      "+-----------------------+\n",
      "|transmission_type_count|\n",
      "+-----------------------+\n",
      "|                     10|\n",
      "+-----------------------+\n",
      "\n"
     ]
    }
   ],
   "source": [
    "sdf.select(countDistinct('trans').alias('transmission_type_count')).show()"
   ]
  },
  {
   "cell_type": "markdown",
   "id": "1523f7d2-81d7-4067-b59c-152312984acf",
   "metadata": {},
   "source": [
    "#### .groupBy()"
   ]
  },
  {
   "cell_type": "code",
   "execution_count": 36,
   "id": "93b21186-7d98-4c76-a2e0-ca4b6946c58a",
   "metadata": {},
   "outputs": [
    {
     "name": "stdout",
     "output_type": "stream",
     "text": [
      "+----------+-----+\n",
      "|     class|count|\n",
      "+----------+-----+\n",
      "|subcompact|   35|\n",
      "|   compact|   47|\n",
      "|   minivan|   11|\n",
      "|       suv|   62|\n",
      "|   midsize|   41|\n",
      "|    pickup|   33|\n",
      "|   2seater|    5|\n",
      "+----------+-----+\n",
      "\n"
     ]
    }
   ],
   "source": [
    "sdf.groupBy('class').count().show()"
   ]
  },
  {
   "cell_type": "code",
   "execution_count": 49,
   "id": "5dbcbeb6-df96-47fb-a61b-5825a9af3916",
   "metadata": {},
   "outputs": [
    {
     "name": "stdout",
     "output_type": "stream",
     "text": [
      "+----------+---------+\n",
      "|     trans|row_count|\n",
      "+----------+---------+\n",
      "|  auto(l4)|       83|\n",
      "|manual(m6)|       19|\n",
      "|  auto(s6)|       16|\n",
      "|  auto(l5)|       39|\n",
      "|manual(m5)|       58|\n",
      "|  auto(l6)|        6|\n",
      "|  auto(av)|        5|\n",
      "|  auto(s5)|        3|\n",
      "|  auto(l3)|        2|\n",
      "|  auto(s4)|        3|\n",
      "+----------+---------+\n",
      "\n"
     ]
    }
   ],
   "source": [
    "(\n",
    "    sdf\n",
    "    .groupBy('trans')\n",
    "    .agg( count('trans').alias('row_count') )\n",
    "    .show()\n",
    ")"
   ]
  },
  {
   "cell_type": "markdown",
   "id": "0a95fb7a-8115-45cf-a5e4-29f31dbcdf3a",
   "metadata": {},
   "source": [
    "##### Save & Use\n",
    "\n",
    "I may want to grab a metric to use somewhere else."
   ]
  },
  {
   "cell_type": "code",
   "execution_count": 64,
   "id": "629d1c2b-60bb-4356-bb32-58f9588504b5",
   "metadata": {},
   "outputs": [
    {
     "name": "stdout",
     "output_type": "stream",
     "text": [
      "+------------------+\n",
      "|      average_city|\n",
      "+------------------+\n",
      "|16.858974358974358|\n",
      "+------------------+\n",
      "\n"
     ]
    }
   ],
   "source": [
    "# Save average city mileage to a variable.\n",
    "\n",
    "avg_city = sdf.select(avg('cty').alias('average_city'))\n",
    "avg_city.show()"
   ]
  },
  {
   "cell_type": "markdown",
   "id": "07c05b88-57df-474c-b9df-c4696aba86fc",
   "metadata": {},
   "source": [
    "##### format_number()\n",
    "\n",
    "Maybe I want to clean up the formatting of my metric."
   ]
  },
  {
   "cell_type": "code",
   "execution_count": 67,
   "id": "e7e7aea6-15e4-4397-8b2c-39283fdefdbc",
   "metadata": {},
   "outputs": [
    {
     "name": "stdout",
     "output_type": "stream",
     "text": [
      "+------------+\n",
      "|average_city|\n",
      "+------------+\n",
      "|       16.86|\n",
      "+------------+\n",
      "\n"
     ]
    }
   ],
   "source": [
    "avg_city.select(format_number('average_city', 2).alias('average_city')).show()"
   ]
  },
  {
   "cell_type": "markdown",
   "id": "3a530a03-f63d-4a1a-9dae-eb593b765bab",
   "metadata": {},
   "source": [
    "#### .agg()"
   ]
  },
  {
   "cell_type": "code",
   "execution_count": 53,
   "id": "2222eb29-a755-4fdc-82df-8e601a66ce76",
   "metadata": {},
   "outputs": [
    {
     "name": "stdout",
     "output_type": "stream",
     "text": [
      "+----------+------------------+------------------+\n",
      "|     trans|          avg(cty)|          avg(hwy)|\n",
      "+----------+------------------+------------------+\n",
      "|  auto(l4)|15.939759036144578| 21.96385542168675|\n",
      "|manual(m6)|16.894736842105264|24.210526315789473|\n",
      "|  auto(s6)|            17.375|           25.1875|\n",
      "|  auto(l5)|14.717948717948717| 20.71794871794872|\n",
      "|manual(m5)| 19.25862068965517| 26.29310344827586|\n",
      "|  auto(l6)|13.666666666666666|              20.0|\n",
      "|  auto(av)|              20.0|              27.8|\n",
      "|  auto(s5)|17.333333333333332|25.333333333333332|\n",
      "|  auto(l3)|              21.0|              27.0|\n",
      "|  auto(s4)|18.666666666666668|25.666666666666668|\n",
      "+----------+------------------+------------------+\n",
      "\n"
     ]
    }
   ],
   "source": [
    "sdf.groupBy('trans').agg({'cty': 'avg', 'hwy': 'avg'}).show()"
   ]
  },
  {
   "cell_type": "markdown",
   "id": "f85c6f6f-dc48-4276-be2a-7698294e457a",
   "metadata": {},
   "source": [
    "##### .round()\n",
    "\n",
    "I can clean up my values using `.round()`, too. Yep, I'll chain on `.alias()` for kicks. Squeaky clean!"
   ]
  },
  {
   "cell_type": "code",
   "execution_count": 50,
   "id": "785d35e5-da51-4825-8bb1-9067da226c6d",
   "metadata": {},
   "outputs": [
    {
     "name": "stdout",
     "output_type": "stream",
     "text": [
      "+----------+------------+---------------+\n",
      "|     trans|city_average|highway_average|\n",
      "+----------+------------+---------------+\n",
      "|  auto(l4)|       15.94|          21.96|\n",
      "|manual(m6)|       16.89|          24.21|\n",
      "|  auto(s6)|       17.38|          25.19|\n",
      "|  auto(l5)|       14.72|          20.72|\n",
      "|manual(m5)|       19.26|          26.29|\n",
      "|  auto(l6)|       13.67|           20.0|\n",
      "|  auto(av)|        20.0|           27.8|\n",
      "|  auto(s5)|       17.33|          25.33|\n",
      "|  auto(l3)|        21.0|           27.0|\n",
      "|  auto(s4)|       18.67|          25.67|\n",
      "+----------+------------+---------------+\n",
      "\n"
     ]
    }
   ],
   "source": [
    "(\n",
    "sdf\n",
    ".groupBy('trans')\n",
    ".agg( round(avg('cty'), 2).alias('city_average')\n",
    "     ,round(avg('hwy'), 2).alias('highway_average')\n",
    "    )\n",
    ".show()\n",
    ")"
   ]
  },
  {
   "cell_type": "markdown",
   "id": "530f6904-e5e6-4998-be3a-c7e375ca2d2b",
   "metadata": {},
   "source": [
    "___"
   ]
  },
  {
   "cell_type": "markdown",
   "id": "d55b62d5-9a7c-4d76-9b00-62b5a9fe960b",
   "metadata": {},
   "source": [
    "### Pivot Tables"
   ]
  },
  {
   "cell_type": "code",
   "execution_count": 55,
   "id": "a39df97a-0fe4-4b9e-813a-b4c7b1b42f96",
   "metadata": {},
   "outputs": [
    {
     "name": "stdout",
     "output_type": "stream",
     "text": [
      "+-----------------+-------+-------+-------+-------+------+----------+---+\n",
      "|transmission_type|2seater|compact|midsize|minivan|pickup|subcompact|suv|\n",
      "+-----------------+-------+-------+-------+-------+------+----------+---+\n",
      "|        automatic|      1|      8|      8|      1|     4|         5| 13|\n",
      "|           manual|      1|      8|      5|   null|     4|         5|  4|\n",
      "+-----------------+-------+-------+-------+-------+------+----------+---+\n",
      "\n"
     ]
    }
   ],
   "source": [
    "model_pivot = (\n",
    "sdf\n",
    "    .withColumn( 'transmission_type', when( col('trans').startswith('a'), 'automatic' )\n",
    "               .otherwise('manual') )\n",
    "    .groupBy('transmission_type')\n",
    "    .pivot('class')\n",
    "    .agg( countDistinct('model').alias('unique_models') )\n",
    ")\n",
    "model_pivot.show()"
   ]
  },
  {
   "cell_type": "markdown",
   "id": "5b0c79c7-33fc-4603-a4df-b70e97da8901",
   "metadata": {},
   "source": [
    "### Handle Null Values"
   ]
  },
  {
   "cell_type": "markdown",
   "id": "0f0b8607-868d-493e-9be2-4280328561d6",
   "metadata": {},
   "source": [
    "#### .fillna()\n",
    "\n",
    "This is one way I can handle unwanted Null values. In this context, it makes the most sense."
   ]
  },
  {
   "cell_type": "code",
   "execution_count": 56,
   "id": "e5cbc319-ada0-48d5-af9e-cfe3946affc5",
   "metadata": {},
   "outputs": [
    {
     "name": "stdout",
     "output_type": "stream",
     "text": [
      "+-----------------+-------+-------+-------+-------+------+----------+---+\n",
      "|transmission_type|2seater|compact|midsize|minivan|pickup|subcompact|suv|\n",
      "+-----------------+-------+-------+-------+-------+------+----------+---+\n",
      "|        automatic|      1|      8|      8|      1|     4|         5| 13|\n",
      "|           manual|      1|      8|      5|      0|     4|         5|  4|\n",
      "+-----------------+-------+-------+-------+-------+------+----------+---+\n",
      "\n"
     ]
    }
   ],
   "source": [
    "# I can replace my Null values here with 0 because it means there are no models with a certain transmission type.\n",
    "\n",
    "model_pivot.fillna(0).show()"
   ]
  },
  {
   "cell_type": "markdown",
   "id": "65feafe8-2bce-47d1-baf3-51d295809499",
   "metadata": {},
   "source": [
    "___"
   ]
  },
  {
   "cell_type": "markdown",
   "id": "3f342eab-c4b9-40b0-beab-b69f57ae025e",
   "metadata": {},
   "source": [
    "### Window Functions"
   ]
  },
  {
   "cell_type": "markdown",
   "id": "c89507cb-621f-4e41-8da0-7af2820c3c38",
   "metadata": {},
   "source": [
    "#### .rank() & .dense_rank()"
   ]
  },
  {
   "cell_type": "code",
   "execution_count": 62,
   "id": "153ad32a-4eef-4b57-b429-d7e3e3c65f6a",
   "metadata": {},
   "outputs": [
    {
     "name": "stdout",
     "output_type": "stream",
     "text": [
      "+------------+----------+-----------------------+------------+\n",
      "|manufacturer|     class|average_highway_mileage|mileage_rank|\n",
      "+------------+----------+-----------------------+------------+\n",
      "|  volkswagen|subcompact|     32.833333333333336|           1|\n",
      "|       honda|subcompact|      32.55555555555556|           2|\n",
      "|      subaru|subcompact|                   26.0|           3|\n",
      "|     hyundai|subcompact|                   26.0|           3|\n",
      "|        ford|subcompact|      23.22222222222222|           5|\n",
      "|      toyota|   compact|     30.583333333333332|           1|\n",
      "|  volkswagen|   compact|                   28.5|           2|\n",
      "|      nissan|   compact|                   28.0|           3|\n",
      "|        audi|   compact|     26.933333333333334|           4|\n",
      "|      subaru|   compact|                   26.0|           5|\n",
      "|       dodge|   minivan|     22.363636363636363|           1|\n",
      "|      subaru|       suv|                   25.0|           1|\n",
      "|      toyota|       suv|                  18.25|           2|\n",
      "|     mercury|       suv|                   18.0|           3|\n",
      "|      nissan|       suv|                   18.0|           3|\n",
      "|        ford|       suv|      17.77777777777778|           5|\n",
      "|        jeep|       suv|                 17.625|           6|\n",
      "|   chevrolet|       suv|      17.11111111111111|           7|\n",
      "|     lincoln|       suv|                   17.0|           8|\n",
      "|  land rover|       suv|                   16.5|           9|\n",
      "+------------+----------+-----------------------+------------+\n",
      "only showing top 20 rows\n",
      "\n"
     ]
    }
   ],
   "source": [
    "# Create a column that ranks the average mileage by class of vehicle. .rank() skips numbers after rows with a tie.\n",
    "\n",
    "(\n",
    "    sdf\n",
    "    .groupBy('manufacturer', 'class')\n",
    "    .agg( avg('hwy').alias('average_highway_mileage') )\n",
    "    .withColumn( 'mileage_rank', rank().over(Window.partitionBy('class').orderBy(desc('average_highway_mileage'))) )\n",
    "    .show()\n",
    ")"
   ]
  },
  {
   "cell_type": "code",
   "execution_count": 65,
   "id": "924415d3-4419-4a6f-8f5f-8c4e61908ae0",
   "metadata": {},
   "outputs": [
    {
     "name": "stdout",
     "output_type": "stream",
     "text": [
      "+------------+----------+-----------------------+------------+\n",
      "|manufacturer|     class|average_highway_mileage|mileage_rank|\n",
      "+------------+----------+-----------------------+------------+\n",
      "|  volkswagen|subcompact|     32.833333333333336|           1|\n",
      "|      toyota|   compact|     30.583333333333332|           1|\n",
      "|       dodge|   minivan|     22.363636363636363|           1|\n",
      "|      subaru|       suv|                   25.0|           1|\n",
      "|      toyota|   midsize|     28.285714285714285|           1|\n",
      "|      toyota|    pickup|     19.428571428571427|           1|\n",
      "|   chevrolet|   2seater|                   24.8|           1|\n",
      "+------------+----------+-----------------------+------------+\n",
      "\n"
     ]
    }
   ],
   "source": [
    "# Grab all of the top ranking vehicles for each class.\n",
    "\n",
    "(\n",
    "    sdf\n",
    "    .groupBy('manufacturer', 'class')\n",
    "    .agg( avg('hwy').alias('average_highway_mileage') )\n",
    "    .withColumn( 'mileage_rank', rank().over(Window.partitionBy('class').orderBy(desc('average_highway_mileage'))) )\n",
    "    .where(col('mileage_rank') == 1)\n",
    "    .show()\n",
    ")"
   ]
  },
  {
   "cell_type": "code",
   "execution_count": 66,
   "id": "5bb2af35-b1be-4827-9d3c-3c3309e87140",
   "metadata": {},
   "outputs": [
    {
     "name": "stdout",
     "output_type": "stream",
     "text": [
      "+------------+----------+-----------------------+------------+\n",
      "|manufacturer|     class|average_highway_mileage|mileage_rank|\n",
      "+------------+----------+-----------------------+------------+\n",
      "|      subaru|subcompact|                   26.0|           3|\n",
      "|     hyundai|subcompact|                   26.0|           3|\n",
      "|      nissan|   compact|                   28.0|           3|\n",
      "|     mercury|       suv|                   18.0|           3|\n",
      "|      nissan|       suv|                   18.0|           3|\n",
      "|   chevrolet|   midsize|                   27.6|           3|\n",
      "|       dodge|    pickup|     16.105263157894736|           3|\n",
      "+------------+----------+-----------------------+------------+\n",
      "\n"
     ]
    }
   ],
   "source": [
    "# What happens when I filter for mileage_rank when there is a tie in a class?\n",
    "\n",
    "(\n",
    "    sdf\n",
    "    .groupBy('manufacturer', 'class')\n",
    "    .agg( avg('hwy').alias('average_highway_mileage') )\n",
    "    .withColumn( 'mileage_rank', rank().over(Window.partitionBy('class').orderBy(desc('average_highway_mileage'))) )\n",
    "    .where(col('mileage_rank') == 3)\n",
    "    .show()\n",
    ")"
   ]
  },
  {
   "cell_type": "code",
   "execution_count": 60,
   "id": "7bba2a56-fed1-4598-92a4-6272c873bd02",
   "metadata": {},
   "outputs": [
    {
     "name": "stdout",
     "output_type": "stream",
     "text": [
      "+------------+------------------+----------+-----------------------+------------+\n",
      "|manufacturer|             model|     class|average_highway_mileage|mileage_rank|\n",
      "+------------+------------------+----------+-----------------------+------------+\n",
      "|  volkswagen|        new beetle|subcompact|     32.833333333333336|           1|\n",
      "|       honda|             civic|subcompact|      32.55555555555556|           2|\n",
      "|     hyundai|           tiburon|subcompact|                   26.0|           3|\n",
      "|      subaru|       impreza awd|subcompact|                   26.0|           3|\n",
      "|        ford|           mustang|subcompact|      23.22222222222222|           4|\n",
      "|      toyota|           corolla|   compact|                   34.0|           1|\n",
      "|  volkswagen|             jetta|   compact|      29.11111111111111|           2|\n",
      "|        audi|                a4|   compact|     28.285714285714285|           3|\n",
      "|      toyota|      camry solara|   compact|     28.142857142857142|           4|\n",
      "|      nissan|            altima|   compact|                   28.0|           5|\n",
      "|  volkswagen|               gti|   compact|                   27.4|           6|\n",
      "|      subaru|       impreza awd|   compact|                   26.0|           7|\n",
      "|        audi|        a4 quattro|   compact|                  25.75|           8|\n",
      "|       dodge|       caravan 2wd|   minivan|     22.363636363636363|           1|\n",
      "|      subaru|      forester awd|       suv|                   25.0|           1|\n",
      "|      toyota|       4runner 4wd|       suv|     18.833333333333332|           2|\n",
      "|      nissan|    pathfinder 4wd|       suv|                   18.0|           3|\n",
      "|     mercury|   mountaineer 4wd|       suv|                   18.0|           3|\n",
      "|        ford|      explorer 4wd|       suv|                   18.0|           3|\n",
      "|   chevrolet|c1500 suburban 2wd|       suv|                   17.8|           4|\n",
      "+------------+------------------+----------+-----------------------+------------+\n",
      "only showing top 20 rows\n",
      "\n"
     ]
    }
   ],
   "source": [
    "# .dense_rank() does not skip numbers after rows with a tie like .rank() does.\n",
    "\n",
    "(\n",
    "    sdf\n",
    "    .groupBy('manufacturer', 'model', 'class')\n",
    "    .agg( avg('hwy').alias('average_highway_mileage') )\n",
    "    .withColumn( 'mileage_rank', dense_rank().over(Window.partitionBy('class').orderBy(desc('average_highway_mileage'))) )\n",
    "    .show()\n",
    ")"
   ]
  },
  {
   "cell_type": "markdown",
   "id": "a2cc2469-e2bf-4bdc-b4a5-b8151015c3b0",
   "metadata": {},
   "source": [
    "___"
   ]
  },
  {
   "cell_type": "markdown",
   "id": "cf7cac03-f225-484f-9982-76d660da4295",
   "metadata": {},
   "source": [
    "## Using SQL Syntax\n",
    "### Register DF as Temp View"
   ]
  },
  {
   "cell_type": "code",
   "execution_count": 32,
   "id": "83ac3456-0e65-47b6-b41c-fa595fdf54f4",
   "metadata": {},
   "outputs": [],
   "source": [
    "# I'm creating a temporary view to query. You might have a database you are querying, and not need to complete this step first.\n",
    "\n",
    "sdf.createOrReplaceTempView('sql_mpg')"
   ]
  },
  {
   "cell_type": "code",
   "execution_count": 36,
   "id": "cfb1d397-11b6-423c-80ae-959b880ca247",
   "metadata": {},
   "outputs": [],
   "source": [
    "# For a simple query, I can just pass the sql query directly into the spark.sql() function.\n",
    "\n",
    "results = spark.sql('SELECT * FROM sql_mpg WHERE class = \"compact\"')"
   ]
  },
  {
   "cell_type": "code",
   "execution_count": 37,
   "id": "854bd775-c716-42ac-b92d-58b8e2ebde6e",
   "metadata": {},
   "outputs": [
    {
     "name": "stdout",
     "output_type": "stream",
     "text": [
      "+------------+-----+-----+----+---+----------+---+---+---+---+-------+\n",
      "|manufacturer|model|displ|year|cyl|     trans|drv|cty|hwy| fl|  class|\n",
      "+------------+-----+-----+----+---+----------+---+---+---+---+-------+\n",
      "|        audi|   a4|  1.8|1999|  4|  auto(l5)|  f| 18| 29|  p|compact|\n",
      "|        audi|   a4|  1.8|1999|  4|manual(m5)|  f| 21| 29|  p|compact|\n",
      "|        audi|   a4|  2.0|2008|  4|manual(m6)|  f| 20| 31|  p|compact|\n",
      "|        audi|   a4|  2.0|2008|  4|  auto(av)|  f| 21| 30|  p|compact|\n",
      "|        audi|   a4|  2.8|1999|  6|  auto(l5)|  f| 16| 26|  p|compact|\n",
      "+------------+-----+-----+----+---+----------+---+---+---+---+-------+\n",
      "only showing top 5 rows\n",
      "\n"
     ]
    }
   ],
   "source": [
    "# That easily, I'm working with a PySpark DataFrame.\n",
    "\n",
    "results.show(5)"
   ]
  }
 ],
 "metadata": {
  "kernelspec": {
   "display_name": "Python 3",
   "language": "python",
   "name": "python3"
  },
  "language_info": {
   "codemirror_mode": {
    "name": "ipython",
    "version": 3
   },
   "file_extension": ".py",
   "mimetype": "text/x-python",
   "name": "python",
   "nbconvert_exporter": "python",
   "pygments_lexer": "ipython3",
   "version": "3.8.8"
  }
 },
 "nbformat": 4,
 "nbformat_minor": 5
}
